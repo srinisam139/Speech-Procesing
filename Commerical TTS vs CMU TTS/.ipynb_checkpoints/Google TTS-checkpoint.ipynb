{
 "cells": [
  {
   "cell_type": "code",
   "execution_count": 1,
   "id": "c5bb6002",
   "metadata": {},
   "outputs": [
    {
     "name": "stdout",
     "output_type": "stream",
     "text": [
      "/Users/sam/.zshenv:1: permission denied: /Users/sam/.cargo/env\n",
      "/Users/sam/.zshenv:4: no such file or directory: PATH/Users/sam/opt/anaconda3/bin:/Users/sam/opt/anaconda3/condabin:/opt/homebrew/bin:/opt/homebrew/sbin:/Library/Frameworks/Python.framework/Versions/3.9/bin:/usr/local/bin:/System/Cryptexes/App/usr/bin:/usr/bin:/bin:/usr/sbin:/sbin:/Library/Apple/usr/bin:~/apache-maven-3.8.7/bin\n",
      "Requirement already satisfied: gtts in /Users/sam/opt/anaconda3/lib/python3.9/site-packages (2.3.1)\n",
      "Requirement already satisfied: requests<3,>=2.27 in /Users/sam/opt/anaconda3/lib/python3.9/site-packages (from gtts) (2.27.1)\n",
      "Requirement already satisfied: click<8.2,>=7.1 in /Users/sam/opt/anaconda3/lib/python3.9/site-packages (from gtts) (8.0.4)\n",
      "Requirement already satisfied: urllib3<1.27,>=1.21.1 in /Users/sam/opt/anaconda3/lib/python3.9/site-packages (from requests<3,>=2.27->gtts) (1.26.9)\n",
      "Requirement already satisfied: idna<4,>=2.5 in /Users/sam/opt/anaconda3/lib/python3.9/site-packages (from requests<3,>=2.27->gtts) (3.3)\n",
      "Requirement already satisfied: charset-normalizer~=2.0.0 in /Users/sam/opt/anaconda3/lib/python3.9/site-packages (from requests<3,>=2.27->gtts) (2.0.4)\n",
      "Requirement already satisfied: certifi>=2017.4.17 in /Users/sam/opt/anaconda3/lib/python3.9/site-packages (from requests<3,>=2.27->gtts) (2021.10.8)\n"
     ]
    }
   ],
   "source": [
    "!pip install gtts"
   ]
  },
  {
   "cell_type": "code",
   "execution_count": 4,
   "id": "f9643639",
   "metadata": {},
   "outputs": [
    {
     "name": "stdout",
     "output_type": "stream",
     "text": [
      "Conversion Completed\n"
     ]
    }
   ],
   "source": [
    "from gtts import gTTS\n",
    "    \n",
    "import os\n",
    "    \n",
    "sentence_one = \"\"\"I cant beleeve I left my walet at hom, I hat it wen that hapens.\"\"\"\n",
    "\n",
    "sentence_two = \"\"\"The bass gitarist was fishing for compliments at the last concert, but it was clear he was off key.\"\"\"\n",
    "\n",
    "lang = \"en\"\n",
    "\n",
    "obj_tone = gTTS(text=sentence_one, lang=lang, slow=False)\n",
    "obj_tone.save(\"GTTS_Sentence1.wav\")\n",
    "\n",
    "obj_two = gTTS(text=sentence_two, lang=lang, slow=False)\n",
    "obj_two.save(\"GTTS_Sentence2.wav\")\n",
    "\n",
    "print(\"Conversion Completed\")"
   ]
  },
  {
   "cell_type": "code",
   "execution_count": null,
   "id": "a43c9617",
   "metadata": {},
   "outputs": [],
   "source": []
  }
 ],
 "metadata": {
  "kernelspec": {
   "display_name": "Python 3 (ipykernel)",
   "language": "python",
   "name": "python3"
  },
  "language_info": {
   "codemirror_mode": {
    "name": "ipython",
    "version": 3
   },
   "file_extension": ".py",
   "mimetype": "text/x-python",
   "name": "python",
   "nbconvert_exporter": "python",
   "pygments_lexer": "ipython3",
   "version": "3.9.12"
  }
 },
 "nbformat": 4,
 "nbformat_minor": 5
}
